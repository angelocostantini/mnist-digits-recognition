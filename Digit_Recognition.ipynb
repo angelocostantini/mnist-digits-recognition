{
  "nbformat": 4,
  "nbformat_minor": 0,
  "metadata": {
    "colab": {
      "provenance": [],
      "gpuType": "T4",
      "authorship_tag": "ABX9TyPrw03Vf52p7EPirSlzgrd4",
      "include_colab_link": true
    },
    "kernelspec": {
      "name": "python3",
      "display_name": "Python 3"
    },
    "language_info": {
      "name": "python"
    },
    "accelerator": "GPU",
    "gpuClass": "standard"
  },
  "cells": [
    {
      "cell_type": "markdown",
      "metadata": {
        "id": "view-in-github",
        "colab_type": "text"
      },
      "source": [
        "<a href=\"https://colab.research.google.com/github/angelocostantini/mnist-digits-recognition/blob/main/Digit_Recognition.ipynb\" target=\"_parent\"><img src=\"https://colab.research.google.com/assets/colab-badge.svg\" alt=\"Open In Colab\"/></a>"
      ]
    },
    {
      "cell_type": "markdown",
      "source": [
        "#Setup:"
      ],
      "metadata": {
        "id": "9DKMuvZtNGId"
      }
    },
    {
      "cell_type": "code",
      "source": [
        "#pip install mnist"
      ],
      "metadata": {
        "id": "cfBCq9GDptHD"
      },
      "execution_count": null,
      "outputs": []
    },
    {
      "cell_type": "markdown",
      "source": [
        "#Imports:"
      ],
      "metadata": {
        "id": "Tlm1TYzaNJmV"
      }
    },
    {
      "cell_type": "code",
      "source": [
        "from PIL import Image\n",
        "import mnist\n",
        "import numpy as np\n",
        "import pandas as pd\n",
        "from sklearn.neural_network import MLPClassifier\n",
        "from sklearn.metrics import confusion_matrix"
      ],
      "metadata": {
        "id": "vC8OiHS2Kih_"
      },
      "execution_count": null,
      "outputs": []
    },
    {
      "cell_type": "markdown",
      "source": [
        "#Training data:"
      ],
      "metadata": {
        "id": "fhK8EjEqNLNZ"
      }
    },
    {
      "cell_type": "code",
      "source": [
        "x_train = mnist.train_images()\n",
        "y_train = mnist.train_labels()"
      ],
      "metadata": {
        "id": "jsuBsTTSKyYP"
      },
      "execution_count": null,
      "outputs": []
    },
    {
      "cell_type": "markdown",
      "source": [
        "#Testing data:"
      ],
      "metadata": {
        "id": "qBCom3IqNOyk"
      }
    },
    {
      "cell_type": "code",
      "source": [
        "x_test = mnist.test_images()\n",
        "y_test = mnist.test_labels()"
      ],
      "metadata": {
        "id": "Wr6H2u79K_KX"
      },
      "execution_count": null,
      "outputs": []
    },
    {
      "cell_type": "markdown",
      "source": [
        "#Reshaping data:"
      ],
      "metadata": {
        "id": "YP2wSXrFNRFE"
      }
    },
    {
      "cell_type": "markdown",
      "source": [
        "We reshape the data as a matrix in order to pass them to the .fit() method.<br>\n",
        "From a tensor made up by the matrixes of the pixels of the various images, we go to "
      ],
      "metadata": {
        "id": "az9jHoICNVOM"
      }
    },
    {
      "cell_type": "code",
      "source": [
        "x_train = x_train.reshape((-1, 28*28))\n",
        "x_test = x_test.reshape((-1, 28*28))"
      ],
      "metadata": {
        "id": "dE958h8GMGCh"
      },
      "execution_count": null,
      "outputs": []
    },
    {
      "cell_type": "markdown",
      "source": [
        "#Preparing data for neural network:\n",
        "A neural network requires inputs between 0 and 1:"
      ],
      "metadata": {
        "id": "L8KnJyHRP_v0"
      }
    },
    {
      "cell_type": "code",
      "source": [
        "x_train = x_train / 256\n",
        "x_test = x_test / 256\n",
        "x_test[0]"
      ],
      "metadata": {
        "id": "-M7KbzCRM5e8"
      },
      "execution_count": null,
      "outputs": []
    },
    {
      "cell_type": "markdown",
      "source": [
        "#Neural Network instanciation:\n",
        "Let's instanciate a neural network model for classification.<br>\n",
        "As solver we use [ADAM](https://en.wikipedia.org/wiki/Stochastic_gradient_descent).<br>\n",
        "As activation function for the hidden layers we use the [RELU](https://it.wikipedia.org/wiki/Rettificatore_(reti_neurali) function.<br>\n",
        "We use two hidden layers of 64 neurons each:"
      ],
      "metadata": {
        "id": "ksjiLwpIRFgk"
      }
    },
    {
      "cell_type": "code",
      "source": [
        "model = MLPClassifier(solver='adam', activation='relu', hidden_layer_sizes=(64, 64))"
      ],
      "metadata": {
        "id": "SaZgrbErQ6o_"
      },
      "execution_count": null,
      "outputs": []
    },
    {
      "cell_type": "markdown",
      "source": [
        "#Training:"
      ],
      "metadata": {
        "id": "2Cuxa81DRyoi"
      }
    },
    {
      "cell_type": "code",
      "source": [
        "model.fit(x_train, y_train)"
      ],
      "metadata": {
        "id": "Xg5ognY8Rx0k",
        "colab": {
          "base_uri": "https://localhost:8080/",
          "height": 75
        },
        "outputId": "89545910-33b0-42eb-a1d6-3cc4bcca2ce0"
      },
      "execution_count": null,
      "outputs": [
        {
          "output_type": "execute_result",
          "data": {
            "text/plain": [
              "MLPClassifier(hidden_layer_sizes=(64, 64))"
            ],
            "text/html": [
              "<style>#sk-container-id-2 {color: black;background-color: white;}#sk-container-id-2 pre{padding: 0;}#sk-container-id-2 div.sk-toggleable {background-color: white;}#sk-container-id-2 label.sk-toggleable__label {cursor: pointer;display: block;width: 100%;margin-bottom: 0;padding: 0.3em;box-sizing: border-box;text-align: center;}#sk-container-id-2 label.sk-toggleable__label-arrow:before {content: \"▸\";float: left;margin-right: 0.25em;color: #696969;}#sk-container-id-2 label.sk-toggleable__label-arrow:hover:before {color: black;}#sk-container-id-2 div.sk-estimator:hover label.sk-toggleable__label-arrow:before {color: black;}#sk-container-id-2 div.sk-toggleable__content {max-height: 0;max-width: 0;overflow: hidden;text-align: left;background-color: #f0f8ff;}#sk-container-id-2 div.sk-toggleable__content pre {margin: 0.2em;color: black;border-radius: 0.25em;background-color: #f0f8ff;}#sk-container-id-2 input.sk-toggleable__control:checked~div.sk-toggleable__content {max-height: 200px;max-width: 100%;overflow: auto;}#sk-container-id-2 input.sk-toggleable__control:checked~label.sk-toggleable__label-arrow:before {content: \"▾\";}#sk-container-id-2 div.sk-estimator input.sk-toggleable__control:checked~label.sk-toggleable__label {background-color: #d4ebff;}#sk-container-id-2 div.sk-label input.sk-toggleable__control:checked~label.sk-toggleable__label {background-color: #d4ebff;}#sk-container-id-2 input.sk-hidden--visually {border: 0;clip: rect(1px 1px 1px 1px);clip: rect(1px, 1px, 1px, 1px);height: 1px;margin: -1px;overflow: hidden;padding: 0;position: absolute;width: 1px;}#sk-container-id-2 div.sk-estimator {font-family: monospace;background-color: #f0f8ff;border: 1px dotted black;border-radius: 0.25em;box-sizing: border-box;margin-bottom: 0.5em;}#sk-container-id-2 div.sk-estimator:hover {background-color: #d4ebff;}#sk-container-id-2 div.sk-parallel-item::after {content: \"\";width: 100%;border-bottom: 1px solid gray;flex-grow: 1;}#sk-container-id-2 div.sk-label:hover label.sk-toggleable__label {background-color: #d4ebff;}#sk-container-id-2 div.sk-serial::before {content: \"\";position: absolute;border-left: 1px solid gray;box-sizing: border-box;top: 0;bottom: 0;left: 50%;z-index: 0;}#sk-container-id-2 div.sk-serial {display: flex;flex-direction: column;align-items: center;background-color: white;padding-right: 0.2em;padding-left: 0.2em;position: relative;}#sk-container-id-2 div.sk-item {position: relative;z-index: 1;}#sk-container-id-2 div.sk-parallel {display: flex;align-items: stretch;justify-content: center;background-color: white;position: relative;}#sk-container-id-2 div.sk-item::before, #sk-container-id-2 div.sk-parallel-item::before {content: \"\";position: absolute;border-left: 1px solid gray;box-sizing: border-box;top: 0;bottom: 0;left: 50%;z-index: -1;}#sk-container-id-2 div.sk-parallel-item {display: flex;flex-direction: column;z-index: 1;position: relative;background-color: white;}#sk-container-id-2 div.sk-parallel-item:first-child::after {align-self: flex-end;width: 50%;}#sk-container-id-2 div.sk-parallel-item:last-child::after {align-self: flex-start;width: 50%;}#sk-container-id-2 div.sk-parallel-item:only-child::after {width: 0;}#sk-container-id-2 div.sk-dashed-wrapped {border: 1px dashed gray;margin: 0 0.4em 0.5em 0.4em;box-sizing: border-box;padding-bottom: 0.4em;background-color: white;}#sk-container-id-2 div.sk-label label {font-family: monospace;font-weight: bold;display: inline-block;line-height: 1.2em;}#sk-container-id-2 div.sk-label-container {text-align: center;}#sk-container-id-2 div.sk-container {/* jupyter's `normalize.less` sets `[hidden] { display: none; }` but bootstrap.min.css set `[hidden] { display: none !important; }` so we also need the `!important` here to be able to override the default hidden behavior on the sphinx rendered scikit-learn.org. See: https://github.com/scikit-learn/scikit-learn/issues/21755 */display: inline-block !important;position: relative;}#sk-container-id-2 div.sk-text-repr-fallback {display: none;}</style><div id=\"sk-container-id-2\" class=\"sk-top-container\"><div class=\"sk-text-repr-fallback\"><pre>MLPClassifier(hidden_layer_sizes=(64, 64))</pre><b>In a Jupyter environment, please rerun this cell to show the HTML representation or trust the notebook. <br />On GitHub, the HTML representation is unable to render, please try loading this page with nbviewer.org.</b></div><div class=\"sk-container\" hidden><div class=\"sk-item\"><div class=\"sk-estimator sk-toggleable\"><input class=\"sk-toggleable__control sk-hidden--visually\" id=\"sk-estimator-id-2\" type=\"checkbox\" checked><label for=\"sk-estimator-id-2\" class=\"sk-toggleable__label sk-toggleable__label-arrow\">MLPClassifier</label><div class=\"sk-toggleable__content\"><pre>MLPClassifier(hidden_layer_sizes=(64, 64))</pre></div></div></div></div></div>"
            ]
          },
          "metadata": {},
          "execution_count": 35
        }
      ]
    },
    {
      "cell_type": "markdown",
      "source": [
        "#Testing:"
      ],
      "metadata": {
        "id": "DThJmwx0bpSN"
      }
    },
    {
      "cell_type": "code",
      "source": [
        "y_pred = model.predict(x_test)\n",
        "y_pred"
      ],
      "metadata": {
        "id": "qZDcRe3VbUNV",
        "colab": {
          "base_uri": "https://localhost:8080/"
        },
        "outputId": "1d2865e2-f55a-4a38-bb52-092e6f57c128"
      },
      "execution_count": null,
      "outputs": [
        {
          "output_type": "execute_result",
          "data": {
            "text/plain": [
              "array([7, 2, 1, ..., 4, 5, 6], dtype=uint8)"
            ]
          },
          "metadata": {},
          "execution_count": 36
        }
      ]
    },
    {
      "cell_type": "markdown",
      "source": [
        "#Evaluating accuracy:"
      ],
      "metadata": {
        "id": "lG5V8wiPbrS9"
      }
    },
    {
      "cell_type": "code",
      "source": [
        "accuracy = confusion_matrix(y_test, y_pred)\n",
        "accuracy"
      ],
      "metadata": {
        "id": "TtuPkMC6bwcV",
        "colab": {
          "base_uri": "https://localhost:8080/"
        },
        "outputId": "3453b6d1-fb8e-40a9-f39b-e08d66492408"
      },
      "execution_count": null,
      "outputs": [
        {
          "output_type": "execute_result",
          "data": {
            "text/plain": [
              "array([[ 972,    0,    2,    0,    0,    0,    1,    1,    3,    1],\n",
              "       [   0, 1121,    2,    2,    0,    0,    4,    1,    5,    0],\n",
              "       [   5,    2, 1004,    2,    2,    0,    2,    6,    8,    1],\n",
              "       [   0,    0,    5,  991,    2,    3,    0,    3,    4,    2],\n",
              "       [   0,    1,    3,    2,  955,    0,    6,    2,    0,   13],\n",
              "       [   2,    0,    1,    9,    1,  865,    4,    1,    7,    2],\n",
              "       [   4,    2,    2,    0,    3,    6,  940,    0,    1,    0],\n",
              "       [   2,    1,   11,    3,    2,    0,    1, 1000,    1,    7],\n",
              "       [   4,    1,    2,    6,    3,    3,    1,    3,  948,    3],\n",
              "       [   1,    3,    0,    7,    9,    5,    0,    3,    2,  979]])"
            ]
          },
          "metadata": {},
          "execution_count": 63
        }
      ]
    },
    {
      "cell_type": "code",
      "source": [
        "model.predict([x_test[0]]) == y_test[0]"
      ],
      "metadata": {
        "id": "QcV6yVR1c2jO",
        "colab": {
          "base_uri": "https://localhost:8080/"
        },
        "outputId": "2c4780f9-7887-4032-a6d3-a6b6e6f35f40"
      },
      "execution_count": null,
      "outputs": [
        {
          "output_type": "execute_result",
          "data": {
            "text/plain": [
              "array([ True])"
            ]
          },
          "metadata": {},
          "execution_count": 38
        }
      ]
    },
    {
      "cell_type": "markdown",
      "source": [
        "#Open my images:"
      ],
      "metadata": {
        "id": "7-gdJmrzEBNX"
      }
    },
    {
      "cell_type": "code",
      "source": [
        "def image_to_pixels(img_path):\n",
        "  img = Image.open(img_path).convert('L')\n",
        "  img_pixels = np.array(img.getdata())\n",
        "  return img_pixels / 256"
      ],
      "metadata": {
        "id": "y0e4gCoxEC3u"
      },
      "execution_count": null,
      "outputs": []
    },
    {
      "cell_type": "code",
      "source": [
        "my_number = image_to_pixels('my_number.png')\n",
        "p = model.predict([my_number])\n",
        "p"
      ],
      "metadata": {
        "id": "DiIUhdjFL2ST",
        "colab": {
          "base_uri": "https://localhost:8080/"
        },
        "outputId": "4fa79a47-99d3-43f9-805c-cd999dd5ce70"
      },
      "execution_count": null,
      "outputs": [
        {
          "output_type": "execute_result",
          "data": {
            "text/plain": [
              "array([9], dtype=uint8)"
            ]
          },
          "metadata": {},
          "execution_count": 72
        }
      ]
    }
  ]
}